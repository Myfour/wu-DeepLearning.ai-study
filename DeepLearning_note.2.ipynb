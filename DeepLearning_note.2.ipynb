{
 "cells": [
  {
   "cell_type": "markdown",
   "metadata": {},
   "source": [
    "# 构建一个学习算法的总体架构"
   ]
  },
  {
   "cell_type": "markdown",
   "metadata": {},
   "source": [
    "## 1-导入所需的包 "
   ]
  },
  {
   "cell_type": "code",
   "execution_count": 1,
   "metadata": {},
   "outputs": [
    {
     "name": "stderr",
     "output_type": "stream",
     "text": [
      "/usr/local/lib/python3.5/dist-packages/h5py/__init__.py:36: FutureWarning: Conversion of the second argument of issubdtype from `float` to `np.floating` is deprecated. In future, it will be treated as `np.float64 == np.dtype(float).type`.\n",
      "  from ._conv import register_converters as _register_converters\n"
     ]
    }
   ],
   "source": [
    "import numpy as np\n",
    "import matplotlib.pyplot as plt\n",
    "import h5py\n",
    "import scipy\n",
    "from PIL import Image\n",
    "# from scipy import ndimage\n",
    "from skimage.transform import resize\n",
    "from lr_utils import load_dataset  # 此乃官方提供的获取数据集的模块\n",
    "# 用来控制matplotlib画图的\n",
    "% matplotlib inline"
   ]
  },
  {
   "cell_type": "code",
   "execution_count": 2,
   "metadata": {},
   "outputs": [
    {
     "name": "stdout",
     "output_type": "stream",
     "text": [
      "(209, 64, 64, 3)\n",
      "[[[196 192 190]\n",
      "  [193 186 182]\n",
      "  [188 179 174]\n",
      "  ...\n",
      "  [ 90 142 200]\n",
      "  [ 90 142 201]\n",
      "  [ 90 142 201]]\n",
      "\n",
      " [[230 229 229]\n",
      "  [204 199 197]\n",
      "  [193 186 181]\n",
      "  ...\n",
      "  [ 91 143 201]\n",
      "  [ 91 143 201]\n",
      "  [ 91 143 201]]\n",
      "\n",
      " [[232 225 224]\n",
      "  [235 234 234]\n",
      "  [208 205 202]\n",
      "  ...\n",
      "  [ 91 144 202]\n",
      "  [ 91 144 202]\n",
      "  [ 92 144 202]]\n",
      "\n",
      " ...\n",
      "\n",
      " [[ 18  17  15]\n",
      "  [ 14  14  13]\n",
      "  [ 29  29  32]\n",
      "  ...\n",
      "  [ 83  81  81]\n",
      "  [ 84  82  83]\n",
      "  [ 82  81  82]]\n",
      "\n",
      " [[ 22  20  18]\n",
      "  [ 16  15  14]\n",
      "  [ 25  24  24]\n",
      "  ...\n",
      "  [ 82  80  80]\n",
      "  [ 83  81  82]\n",
      "  [ 82  81  81]]\n",
      "\n",
      " [[ 45  43  39]\n",
      "  [ 61  59  54]\n",
      "  [ 81  78  74]\n",
      "  ...\n",
      "  [ 83  82  81]\n",
      "  [ 84  82  82]\n",
      "  [ 82  80  81]]]\n"
     ]
    }
   ],
   "source": [
    "# 加载数据（猫/非猫）\n",
    "train_set_x_orig, train_set_y, test_set_x_orig, test_set_y, classes = load_dataset()\n",
    "# train_set_x_orig 和 test_set_x_orig中的每一行是一个表示图像的数组\n",
    "print(train_set_x_orig.shape)\n",
    "print(train_set_x_orig[1])"
   ]
  },
  {
   "cell_type": "code",
   "execution_count": 3,
   "metadata": {},
   "outputs": [
    {
     "name": "stdout",
     "output_type": "stream",
     "text": [
      "y = [1], it's a 'cat' picture.\n"
     ]
    },
    {
     "data": {
      "image/png": "[encoded data removed]",
      "text/plain": [
       "<Figure size 432x288 with 1 Axes>"
      ]
     },
     "metadata": {},
     "output_type": "display_data"
    }
   ],
   "source": [
    "# 图片的例子\n",
    "index = 25\n",
    "plt.imshow(train_set_x_orig[index])\n",
    "print (\"y = \" + str(train_set_y[:, index]) + \", it's a '\" + classes[np.squeeze(train_set_y[:, index])].decode(\"utf-8\") +  \"' picture.\")"
   ]
  },
  {
   "cell_type": "markdown",
   "metadata": {},
   "source": [
    "## 2.对数据集进行操作"
   ]
  },
  {
   "cell_type": "code",
   "execution_count": 4,
   "metadata": {},
   "outputs": [
    {
     "name": "stdout",
     "output_type": "stream",
     "text": [
      "Number of training examples: m_train = 209\n",
      "Number of testing examples: m_test = 50\n",
      "Height/Width of each image: num_px = 64\n",
      "Each image is of size: (64, 64, 3)\n",
      "train_set_x shape: (209, 64, 64, 3)\n",
      "train_set_y shape: (1, 209)\n",
      "test_set_x shape: (50, 64, 64, 3)\n",
      "test_set_y shape: (1, 50)\n",
      "test_set_y is [[1 1 1 1 1 0 1 1 1 1 1 1 1 0 0 1 0 1 1 1 1 0 0 1 1 1 1 0 1 0 1 1 1 1 0 0\n",
      "  0 1 0 0 1 1 1 0 0 0 1 1 1 0]]\n"
     ]
    }
   ],
   "source": [
    "# m_train(训练集的数量)\n",
    "# m_test(测试集的数量)\n",
    "# num_px(训练集图片的宽高)\n",
    "m_train=train_set_x_orig.shape[0]\n",
    "m_test=test_set_x_orig.shape[0]\n",
    "num_px=train_set_x_orig.shape[1]\n",
    "###\n",
    "print (\"Number of training examples: m_train = \" + str(m_train))\n",
    "print (\"Number of testing examples: m_test = \" + str(m_test))\n",
    "print (\"Height/Width of each image: num_px = \" + str(num_px))\n",
    "print (\"Each image is of size: (\" + str(num_px) + \", \" + str(num_px) + \", 3)\")\n",
    "print (\"train_set_x shape: \" + str(train_set_x_orig.shape))\n",
    "print (\"train_set_y shape: \" + str(train_set_y.shape))\n",
    "print (\"test_set_x shape: \" + str(test_set_x_orig.shape))\n",
    "print (\"test_set_y shape: \" + str(test_set_y.shape))\n",
    "print('test_set_y is',str(test_set_y))"
   ]
  },
  {
   "cell_type": "code",
   "execution_count": 5,
   "metadata": {},
   "outputs": [
    {
     "name": "stdout",
     "output_type": "stream",
     "text": [
      "train_set_x_flatten shape: (12288, 209)\n",
      "train_set_y shape: (1, 209)\n",
      "test_set_x_flatten shape: (12288, 50)\n",
      "test_set_y shape: (1, 50)\n",
      "sanity check after reshaping: [17 31 56 22 33]\n"
     ]
    }
   ],
   "source": [
    "# 将数据集的数组转换为numpy的矩阵\n",
    "train_set_x_flatten=train_set_x_orig.reshape(m_train,-1).T  # 此处reshape中的-1表示让numpy自动计算可以重构成一个多少列的矩阵\n",
    "test_set_x_flatten=test_set_x_orig.reshape(m_test,-1).T\n",
    "print (\"train_set_x_flatten shape: \" + str(train_set_x_flatten.shape))\n",
    "print (\"train_set_y shape: \" + str(train_set_y.shape))\n",
    "print (\"test_set_x_flatten shape: \" + str(test_set_x_flatten.shape))\n",
    "print (\"test_set_y shape: \" + str(test_set_y.shape))\n",
    "print (\"sanity check after reshaping: \" + str(train_set_x_flatten[0:5,0]))"
   ]
  },
  {
   "cell_type": "code",
   "execution_count": 6,
   "metadata": {},
   "outputs": [],
   "source": [
    "# 标准化数据集\n",
    "train_set_x=train_set_x_flatten/255\n",
    "test_set_x=test_set_x_flatten/255"
   ]
  },
  {
   "cell_type": "code",
   "execution_count": 7,
   "metadata": {},
   "outputs": [
    {
     "name": "stdout",
     "output_type": "stream",
     "text": [
      "[[0.06666667 0.76862745 0.32156863 ... 0.56078431 0.08627451 0.03137255]\n",
      " [0.12156863 0.75294118 0.27843137 ... 0.60784314 0.09411765 0.10980392]\n",
      " [0.21960784 0.74509804 0.26666667 ... 0.64705882 0.09019608 0.20784314]\n",
      " ...\n",
      " [0.         0.32156863 0.54117647 ... 0.33333333 0.01568627 0.        ]\n",
      " [0.         0.31372549 0.55294118 ... 0.41960784 0.01960784 0.        ]\n",
      " [0.         0.31764706 0.55686275 ... 0.58431373 0.         0.        ]]\n"
     ]
    }
   ],
   "source": [
    "# 这里每一列代表一张图片的64×64×3的一组特征向量，共有209列\n",
    "print(train_set_x)"
   ]
  },
  {
   "cell_type": "markdown",
   "metadata": {},
   "source": [
    "## 3.构建一个逻辑回归的模型"
   ]
  },
  {
   "cell_type": "markdown",
   "metadata": {},
   "source": [
    "- 构建所用到的算法"
   ]
  },
  {
   "cell_type": "code",
   "execution_count": 8,
   "metadata": {},
   "outputs": [],
   "source": [
    "# sigmoid\n",
    "def sigmoid(z):\n",
    "    '''\n",
    "    Arguments:\n",
    "    z-- W^Tx+b\n",
    "    '''\n",
    "    return 1/(1+np.exp(-z))\n"
   ]
  },
  {
   "cell_type": "code",
   "execution_count": 9,
   "metadata": {},
   "outputs": [
    {
     "data": {
      "text/plain": [
       "array([0.5       , 0.88079708])"
      ]
     },
     "execution_count": 9,
     "metadata": {},
     "output_type": "execute_result"
    }
   ],
   "source": [
    "sigmoid(np.array([0,2]))"
   ]
  },
  {
   "cell_type": "markdown",
   "metadata": {},
   "source": [
    "- 初始化参数"
   ]
  },
  {
   "cell_type": "code",
   "execution_count": 10,
   "metadata": {},
   "outputs": [],
   "source": [
    "# 初始化参数w为一个为0的列矩阵,b=0\n",
    "# dim应与特征向量的维度相同\n",
    "def initialize_with_zeros(dim):\n",
    "    w=np.zeros((dim,1))\n",
    "    b=0\n",
    "    return w,b"
   ]
  },
  {
   "cell_type": "code",
   "execution_count": 11,
   "metadata": {},
   "outputs": [
    {
     "name": "stdout",
     "output_type": "stream",
     "text": [
      "w = [[0.]\n",
      " [0.]\n",
      " [0.]\n",
      " [0.]\n",
      " [0.]]\n",
      "b = 0\n"
     ]
    }
   ],
   "source": [
    "w,b=initialize_with_zeros(5)\n",
    "print('w =',w)\n",
    "print('b =',b)"
   ]
  },
  {
   "cell_type": "markdown",
   "metadata": {},
   "source": [
    "- 正向和反向传播"
   ]
  },
  {
   "cell_type": "code",
   "execution_count": 12,
   "metadata": {},
   "outputs": [],
   "source": [
    "def propagate(w,b,X,Y):\n",
    "    m=X.shape[1]  # 数据集数量\n",
    "    A=sigmoid(np.dot(w.T,X)+b)\n",
    "    cost=(-1/m)*np.sum(Y*np.log(A)+(1-Y)*np.log(1-A))\n",
    "    # 反向传播\n",
    "    dw=(1/m)*np.dot(X,(A-Y).T)\n",
    "    db=(1/m)*np.sum(A-Y)\n",
    "    \n",
    "    grads={\n",
    "           'dw':dw,\n",
    "           'db':db\n",
    "          }\n",
    "    return grads,cost\n",
    "    "
   ]
  },
  {
   "cell_type": "code",
   "execution_count": 13,
   "metadata": {},
   "outputs": [
    {
     "name": "stdout",
     "output_type": "stream",
     "text": [
      "grads: {'dw': array([[0.99845601],\n",
      "       [2.39507239]]), 'db': 0.001455578136784208}\n",
      "cost: 5.801545319394553\n"
     ]
    }
   ],
   "source": [
    "w,b,X,Y=np.array([[1.],[2.]]),2.,np.array([[1.,2.,-1.],[3.,4.,-3.2]]),np.array([[1,0,1]])\n",
    "grads,cost=propagate(w,b,X,Y)\n",
    "print('grads:',grads)\n",
    "print('cost:',cost)"
   ]
  },
  {
   "cell_type": "markdown",
   "metadata": {},
   "source": [
    "- 优化参数，梯度下降"
   ]
  },
  {
   "cell_type": "code",
   "execution_count": 14,
   "metadata": {},
   "outputs": [],
   "source": [
    "def optimize(w,b,X,Y,num_iterations,learning_rate,print_cost=False):\n",
    "    costs=[]\n",
    "    for i in range(num_iterations):\n",
    "        grads,cost=propagate(w,b,X,Y)\n",
    "        dw=grads['dw']\n",
    "        db=grads['db']\n",
    "        \n",
    "        # 优化参数的规则\n",
    "        w=w-learning_rate*dw\n",
    "        b=b-learning_rate*db\n",
    "        \n",
    "        # 记录成本函数结果\n",
    "        if i%100==0:\n",
    "            costs.append(cost)\n",
    "        # 打印成本函数的每一百个数据的结果\n",
    "        if print_cost and i%100==0:\n",
    "            print('Cost after iteration %i:%f'%(i,cost))\n",
    "        params={\n",
    "            'w':w,\n",
    "            'b':b\n",
    "        }\n",
    "        grads={\n",
    "            'dw':dw,\n",
    "            'db':db\n",
    "        }\n",
    "    return params,grads,costs"
   ]
  },
  {
   "cell_type": "code",
   "execution_count": 15,
   "metadata": {},
   "outputs": [
    {
     "name": "stdout",
     "output_type": "stream",
     "text": [
      "w=[[0.19033591]\n",
      " [0.12259159]]\n",
      "b=1.9253598300845747\n",
      "dw=[[0.67752042]\n",
      " [1.41625495]]\n",
      "db=0.21919450454067657\n"
     ]
    }
   ],
   "source": [
    "params,grads,costs=optimize(w,b,X,Y,100,0.009,False)\n",
    "print('w='+str(params['w']))\n",
    "print('b='+str(params['b']))\n",
    "print('dw='+str(grads['dw']))\n",
    "print('db='+str(grads['db']))"
   ]
  },
  {
   "cell_type": "markdown",
   "metadata": {},
   "source": [
    "- 预测结果集"
   ]
  },
  {
   "cell_type": "code",
   "execution_count": 16,
   "metadata": {},
   "outputs": [],
   "source": [
    "# 预测数据集结果 Y^^\n",
    "def predict(w,b,X):\n",
    "    '''\n",
    "    Arguments:\n",
    "    w -- 权重矩阵, a numpy array of size (num_px * num_px * 3, 1)\n",
    "    b -- bias, a scalar\n",
    "    X -- data of size (num_px * num_px * 3, number of examples)\n",
    "    Returns:\n",
    "    Y -- 返回所有数据集对应的结果集，是一个numpy数组\n",
    "    '''\n",
    "    m=X.shape[1] # 获取训练集的数量，索引0对应的是每个图片的nx个特征\n",
    "    Y=np.zeros((1,m)) # 初始化一个全为0的【1，m】的结果集矩阵\n",
    "    \n",
    "    w=w.reshape(X.shape[0],1)\n",
    "    \n",
    "    # 计算出预测值y帽的【m，1】的矩阵\n",
    "    A=sigmoid(np.dot(w.T,X)+b)\n",
    "    for i in range(X.shape[1]):\n",
    "        if A[0,i]>0.5:\n",
    "            Y[0,i]=1\n",
    "        else:\n",
    "            Y[0,i]=0\n",
    "    \n",
    "    return Y"
   ]
  },
  {
   "cell_type": "code",
   "execution_count": 17,
   "metadata": {},
   "outputs": [
    {
     "name": "stdout",
     "output_type": "stream",
     "text": [
      "(2, 3)\n",
      "predictions=[[1. 1. 0.]]\n"
     ]
    }
   ],
   "source": [
    "w=np.array([[0.1124579],[0.23106775]])\n",
    "b=-0.3\n",
    "X=np.array([[1.,-1.1,-3.2],[1.2,2.,0.1]])\n",
    "print(X.shape)\n",
    "print('predictions='+str(predict(w,b,X)))"
   ]
  },
  {
   "cell_type": "markdown",
   "metadata": {},
   "source": [
    "- 合并以上的所有函数到一个模型中"
   ]
  },
  {
   "cell_type": "code",
   "execution_count": 18,
   "metadata": {},
   "outputs": [],
   "source": [
    "def model(X_train,Y_train,X_test,Y_test,num_iterations=2000,learning_rate=0.5,print_cost=False):\n",
    "    # 初始化参数w，b\n",
    "    w,b=initialize_with_zeros(X_train.shape[0])\n",
    "    \n",
    "    # 梯度下降\n",
    "    parameters,grads,costs=optimize(w,b,X_train,Y_train,num_iterations,learning_rate,print_cost)\n",
    "    \n",
    "    # 2000次梯度下降后的w和b参数\n",
    "    w=parameters['w']\n",
    "    b=parameters['b']\n",
    "    \n",
    "    Y_prediction_test=predict(w,b,X_test)\n",
    "    Y_prediction_train=predict(w,b,X_train)\n",
    "    \n",
    "    # Print Train/Test Errors\n",
    "    print(\"train accuracy: {} %\".format(100 - np.mean(np.abs(Y_prediction_train - Y_train)) * 100))\n",
    "    print(\"test accuracy: {} %\".format(100 - np.mean(np.abs(Y_prediction_test - Y_test)) * 100))\n",
    "    \n",
    "    d={\n",
    "        'costs':costs,\n",
    "        'Y_prediction_test':Y_prediction_test,\n",
    "        'Y_prediction_train':Y_prediction_train,\n",
    "        'w':w,\n",
    "        'b':b,\n",
    "        'learing_rate':learning_rate,\n",
    "        'num_iterations':num_iterations\n",
    "    }\n",
    "    return d\n",
    "    "
   ]
  },
  {
   "cell_type": "code",
   "execution_count": 19,
   "metadata": {},
   "outputs": [
    {
     "name": "stdout",
     "output_type": "stream",
     "text": [
      "Cost after iteration 0:0.693147\n",
      "Cost after iteration 100:0.584508\n",
      "Cost after iteration 200:0.466949\n",
      "Cost after iteration 300:0.376007\n",
      "Cost after iteration 400:0.331463\n",
      "Cost after iteration 500:0.303273\n",
      "Cost after iteration 600:0.279880\n",
      "Cost after iteration 700:0.260042\n",
      "Cost after iteration 800:0.242941\n",
      "Cost after iteration 900:0.228004\n",
      "Cost after iteration 1000:0.214820\n",
      "Cost after iteration 1100:0.203078\n",
      "Cost after iteration 1200:0.192544\n",
      "Cost after iteration 1300:0.183033\n",
      "Cost after iteration 1400:0.174399\n",
      "Cost after iteration 1500:0.166521\n",
      "Cost after iteration 1600:0.159305\n",
      "Cost after iteration 1700:0.152667\n",
      "Cost after iteration 1800:0.146542\n",
      "Cost after iteration 1900:0.140872\n",
      "train accuracy: 99.04306220095694 %\n",
      "test accuracy: 70.0 %\n"
     ]
    }
   ],
   "source": [
    "d = d=model(train_set_x, train_set_y, test_set_x, test_set_y, num_iterations = 2000, learning_rate = 0.005, print_cost = True)"
   ]
  },
  {
   "cell_type": "code",
   "execution_count": 20,
   "metadata": {},
   "outputs": [
    {
     "name": "stdout",
     "output_type": "stream",
     "text": [
      "{'Y_prediction_test': array([[1., 1., 1., 1., 1., 1., 0., 1., 1., 1., 0., 0., 1., 1., 0., 1.,\n",
      "        0., 1., 0., 0., 1., 0., 0., 1., 1., 1., 1., 0., 0., 1., 0., 1.,\n",
      "        1., 0., 1., 0., 0., 1., 0., 0., 1., 0., 1., 0., 1., 0., 0., 1.,\n",
      "        1., 0.]]), 'num_iterations': 2000, 'costs': [0.6931471805599453, 0.5845083636993086, 0.46694904094655476, 0.3760068669480208, 0.3314632893282512, 0.30327306747438293, 0.27987958658260487, 0.2600421369258757, 0.2429406846779662, 0.22800422256726063, 0.2148195137844964, 0.20307819060644985, 0.19254427716706862, 0.183033337968835, 0.17439859438448874, 0.16652139705400326, 0.15930451829756614, 0.15266732471296507, 0.1465422350398234, 0.1408720757031016], 'Y_prediction_train': array([[0., 0., 1., 0., 0., 0., 0., 1., 0., 0., 0., 1., 0., 1., 1., 0.,\n",
      "        0., 0., 0., 1., 0., 0., 0., 0., 1., 1., 0., 1., 0., 1., 0., 0.,\n",
      "        0., 0., 0., 0., 0., 0., 1., 0., 0., 0., 1., 0., 0., 0., 0., 1.,\n",
      "        0., 0., 1., 0., 0., 0., 1., 0., 1., 1., 0., 1., 1., 1., 0., 0.,\n",
      "        0., 0., 0., 0., 1., 0., 0., 1., 0., 0., 0., 1., 0., 0., 0., 0.,\n",
      "        0., 0., 0., 1., 1., 0., 0., 0., 1., 0., 0., 0., 1., 1., 1., 0.,\n",
      "        0., 1., 0., 0., 0., 0., 1., 0., 1., 0., 1., 1., 1., 1., 1., 1.,\n",
      "        0., 0., 0., 0., 0., 1., 0., 0., 0., 1., 0., 0., 1., 0., 1., 0.,\n",
      "        1., 1., 0., 0., 0., 1., 1., 1., 1., 1., 0., 0., 0., 0., 1., 0.,\n",
      "        1., 1., 1., 0., 1., 1., 0., 0., 0., 1., 0., 0., 1., 0., 0., 0.,\n",
      "        0., 0., 1., 0., 1., 0., 1., 0., 0., 1., 1., 1., 0., 0., 1., 1.,\n",
      "        0., 1., 0., 1., 0., 0., 0., 0., 0., 1., 0., 0., 1., 0., 0., 0.,\n",
      "        1., 0., 0., 0., 0., 1., 0., 0., 1., 0., 0., 0., 0., 0., 0., 0.,\n",
      "        0.]]), 'learing_rate': 0.005, 'b': -0.015906243999692985, 'w': array([[ 0.00961402],\n",
      "       [-0.0264683 ],\n",
      "       [-0.01226513],\n",
      "       ...,\n",
      "       [-0.01144453],\n",
      "       [-0.02944783],\n",
      "       [ 0.02378106]])}\n"
     ]
    }
   ],
   "source": [
    "print(d)"
   ]
  },
  {
   "cell_type": "code",
   "execution_count": 21,
   "metadata": {},
   "outputs": [
    {
     "data": {
      "image/png": "[encoded data removed]",
      "text/plain": [
       "<Figure size 432x288 with 1 Axes>"
      ]
     },
     "metadata": {},
     "output_type": "display_data"
    }
   ],
   "source": [
    "# plot learning curve (whit cost)\n",
    "costs=np.squeeze(d['costs'])\n",
    "plt.plot(costs)\n",
    "plt.ylabel('cost')\n",
    "plt.xlabel('iterations (per hundreds)')\n",
    "plt.title('learning rate='+str(d['learing_rate']))\n",
    "plt.show()"
   ]
  },
  {
   "cell_type": "code",
   "execution_count": 22,
   "metadata": {},
   "outputs": [],
   "source": [
    "# 上述模型是过拟合的，随着循环次数增加，训练集准确的提升，但训练集下降，这就是过拟合"
   ]
  },
  {
   "cell_type": "code",
   "execution_count": 23,
   "metadata": {},
   "outputs": [
    {
     "name": "stdout",
     "output_type": "stream",
     "text": [
      "y=1.0,your algorithm predicts a \"cat\" picture.\n"
     ]
    },
    {
     "data": {
      "image/png": "[encoded data removed]",
      "text/plain": [
       "<Figure size 432x288 with 1 Axes>"
      ]
     },
     "metadata": {},
     "output_type": "display_data"
    }
   ],
   "source": [
    "# 测试自己的图片\n",
    "# 成功率一般\n",
    "my_image='cata.jpg'\n",
    "\n",
    "fname='images/'+my_image\n",
    "image=plt.imread(fname)\n",
    "my_image=resize(image,(num_px,num_px),mode='reflect').reshape((num_px*num_px*3,1))\n",
    "my_predicted_image=predict(d['w'],d['b'],my_image) #  重点就是w和b这两个参数的值\n",
    "plt.imshow(image)\n",
    "print('y='+str(np.squeeze(my_predicted_image))+',your algorithm predicts a \\\"'+classes[int(np.squeeze(my_predicted_image)),].decode('utf-8')+'\\\" picture.')"
   ]
  },
  {
   "cell_type": "code",
   "execution_count": 24,
   "metadata": {},
   "outputs": [
    {
     "data": {
      "text/plain": [
       "(853, 852, 3)"
      ]
     },
     "execution_count": 24,
     "metadata": {},
     "output_type": "execute_result"
    }
   ],
   "source": [
    "# 上面的一些数据\n",
    "image.shape"
   ]
  },
  {
   "cell_type": "code",
   "execution_count": 25,
   "metadata": {},
   "outputs": [
    {
     "data": {
      "text/plain": [
       "numpy.ndarray"
      ]
     },
     "execution_count": 25,
     "metadata": {},
     "output_type": "execute_result"
    }
   ],
   "source": [
    "type(image)"
   ]
  },
  {
   "cell_type": "code",
   "execution_count": 26,
   "metadata": {},
   "outputs": [
    {
     "data": {
      "text/plain": [
       "(12288, 1)"
      ]
     },
     "execution_count": 26,
     "metadata": {},
     "output_type": "execute_result"
    }
   ],
   "source": [
    "my_image.shape"
   ]
  },
  {
   "cell_type": "code",
   "execution_count": 27,
   "metadata": {},
   "outputs": [
    {
     "data": {
      "text/plain": [
       "array([[ 0.00961402],\n",
       "       [-0.0264683 ],\n",
       "       [-0.01226513],\n",
       "       ...,\n",
       "       [-0.01144453],\n",
       "       [-0.02944783],\n",
       "       [ 0.02378106]])"
      ]
     },
     "execution_count": 27,
     "metadata": {},
     "output_type": "execute_result"
    }
   ],
   "source": [
    "d['w']"
   ]
  },
  {
   "cell_type": "code",
   "execution_count": 28,
   "metadata": {},
   "outputs": [
    {
     "data": {
      "text/plain": [
       "(64, 64, 3)"
      ]
     },
     "execution_count": 28,
     "metadata": {},
     "output_type": "execute_result"
    }
   ],
   "source": [
    "# 推荐如此操作图片\n",
    "resize(image,(64,64),mode='reflect').shape"
   ]
  },
  {
   "cell_type": "code",
   "execution_count": 29,
   "metadata": {},
   "outputs": [
    {
     "data": {
      "text/plain": [
       "(12288, 1)"
      ]
     },
     "execution_count": 29,
     "metadata": {},
     "output_type": "execute_result"
    }
   ],
   "source": [
    "resize(image,(64,64),mode='reflect').reshape((64*64*3,1)).shape"
   ]
  },
  {
   "cell_type": "code",
   "execution_count": 30,
   "metadata": {},
   "outputs": [
    {
     "data": {
      "text/plain": [
       "array([[1.]])"
      ]
     },
     "execution_count": 30,
     "metadata": {},
     "output_type": "execute_result"
    }
   ],
   "source": [
    "my_predicted_image"
   ]
  },
  {
   "cell_type": "code",
   "execution_count": 31,
   "metadata": {},
   "outputs": [
    {
     "data": {
      "text/plain": [
       "array(1.)"
      ]
     },
     "execution_count": 31,
     "metadata": {},
     "output_type": "execute_result"
    }
   ],
   "source": [
    "np.squeeze(my_predicted_image)  # 用来压缩维度"
   ]
  },
  {
   "cell_type": "code",
   "execution_count": 32,
   "metadata": {},
   "outputs": [
    {
     "data": {
      "text/plain": [
       "numpy.ndarray"
      ]
     },
     "execution_count": 32,
     "metadata": {},
     "output_type": "execute_result"
    }
   ],
   "source": [
    "type(my_predicted_image)"
   ]
  },
  {
   "cell_type": "code",
   "execution_count": 33,
   "metadata": {},
   "outputs": [
    {
     "data": {
      "text/plain": [
       "numpy.ndarray"
      ]
     },
     "execution_count": 33,
     "metadata": {},
     "output_type": "execute_result"
    }
   ],
   "source": [
    "type(np.squeeze(my_predicted_image))"
   ]
  }
 ],
 "metadata": {
  "kernelspec": {
   "display_name": "Python 3",
   "language": "python",
   "name": "python3"
  },
  "language_info": {
   "codemirror_mode": {
    "name": "ipython",
    "version": 3
   },
   "file_extension": ".py",
   "mimetype": "text/x-python",
   "name": "python",
   "nbconvert_exporter": "python",
   "pygments_lexer": "ipython3",
   "version": "3.5.4rc1"
  }
 },
 "nbformat": 4,
 "nbformat_minor": 2
}
